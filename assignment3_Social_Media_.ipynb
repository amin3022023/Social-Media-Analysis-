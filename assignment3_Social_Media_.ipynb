{
  "cells": [
    {
      "cell_type": "code",
      "execution_count": null,
      "metadata": {
        "colab": {
          "base_uri": "https://localhost:8080/"
        },
        "id": "NP80jjbxxR0d",
        "outputId": "2be1e3d1-dcea-411c-c55a-d31112514d3c"
      },
      "outputs": [
        {
          "name": "stdout",
          "output_type": "stream",
          "text": [
            "Number of nodes: 1133\n",
            "Number of edges: 5451\n"
          ]
        }
      ],
      "source": [
        "import networkx as nx\n",
        "\n",
        "def load_email_conversations(file_path):\n",
        "    # Create an empty directed graph\n",
        "    G = nx.DiGraph()\n",
        "\n",
        "    # Open the file\n",
        "    with open(file_path, 'r') as file:\n",
        "        # Read each line\n",
        "        for line in file:\n",
        "            # Split the line into sender and receiver\n",
        "            sender, receiver = line.strip().split(' ')\n",
        "\n",
        "            # Add edges to the graph\n",
        "            G.add_edge(sender, receiver)\n",
        "\n",
        "    return G\n",
        "\n",
        "# File path to the email conversations text file\n",
        "file_path = \"email_conversations.txt\"\n",
        "\n",
        "# Load the email conversations into a graph\n",
        "email_graph = load_email_conversations(file_path)\n",
        "\n",
        "# Print some basic information about the graph\n",
        "print(\"Number of nodes:\", email_graph.number_of_nodes())\n",
        "print(\"Number of edges:\", email_graph.number_of_edges())\n"
      ]
    },
    {
      "cell_type": "code",
      "execution_count": null,
      "metadata": {
        "colab": {
          "base_uri": "https://localhost:8080/"
        },
        "id": "3hRaTJO8xyIb",
        "outputId": "196f2b28-0c44-46b8-b690-c1cf23986599"
      },
      "outputs": [
        {
          "name": "stdout",
          "output_type": "stream",
          "text": [
            "Number of maximal 8-cliques: 8\n"
          ]
        }
      ],
      "source": [
        "import networkx as nx\n",
        "\n",
        "def load_email_conversations(file_path):\n",
        "    G = nx.Graph()\n",
        "    with open(file_path, 'r') as file:\n",
        "        for line in file:\n",
        "            sender, receiver = line.strip().split(' ')\n",
        "            G.add_edge(sender, receiver)\n",
        "    return G\n",
        "\n",
        "# Load email conversations into a graph\n",
        "file_path = \"email_conversations.txt\"\n",
        "email_graph = load_email_conversations(file_path)\n",
        "\n",
        "# Find all cliques of size 8\n",
        "cliques = [clique for clique in nx.find_cliques(email_graph) if len(clique) == 8]\n",
        "\n",
        "# Function to check if a clique is maximal\n",
        "def is_maximal(clique, cliques):\n",
        "    for existing_clique in cliques:\n",
        "        if set(clique).issubset(existing_clique) and set(clique) != set(existing_clique):\n",
        "            return False\n",
        "    return True\n",
        "\n",
        "# Filter out non-maximal cliques\n",
        "maximal_8_cliques = [clique for clique in cliques if is_maximal(clique, cliques)]\n",
        "\n",
        "# Number of maximal 8-cliques\n",
        "num_maximal_8_cliques = len(maximal_8_cliques)\n",
        "print(\"Number of maximal 8-cliques:\", num_maximal_8_cliques)\n"
      ]
    },
    {
      "cell_type": "code",
      "execution_count": null,
      "metadata": {
        "colab": {
          "base_uri": "https://localhost:8080/"
        },
        "id": "_bVXMb6-yBT_",
        "outputId": "88e0d99b-3e1e-4b7f-e674-152beb3894c3"
      },
      "outputs": [
        {
          "name": "stdout",
          "output_type": "stream",
          "text": [
            "Largest clique size: 12\n",
            "Number of largest cliques: 1\n",
            "Time taken for calculation: 0.02955460548400879 seconds\n"
          ]
        }
      ],
      "source": [
        "import networkx as nx\n",
        "import time\n",
        "\n",
        "def load_email_conversations(file_path):\n",
        "    G = nx.Graph()\n",
        "    with open(file_path, 'r') as file:\n",
        "        for line in file:\n",
        "            sender, receiver = line.strip().split(' ')\n",
        "            G.add_edge(sender, receiver)\n",
        "    return G\n",
        "\n",
        "# Load email conversations into a graph\n",
        "file_path = \"email_conversations.txt\"\n",
        "email_graph = load_email_conversations(file_path)\n",
        "\n",
        "# Measure the time it takes to find the largest clique(s)\n",
        "start_time = time.time()\n",
        "\n",
        "# Find all cliques\n",
        "all_cliques = list(nx.find_cliques(email_graph))\n",
        "\n",
        "# Find the size of the largest clique(s)\n",
        "max_clique_size = max(len(clique) for clique in all_cliques)\n",
        "\n",
        "# Filter out the largest clique(s)\n",
        "largest_cliques = [clique for clique in all_cliques if len(clique) == max_clique_size]\n",
        "\n",
        "end_time = time.time()\n",
        "calculation_time = end_time - start_time\n",
        "\n",
        "print(\"Largest clique size:\", max_clique_size)\n",
        "print(\"Number of largest cliques:\", len(largest_cliques))\n",
        "print(\"Time taken for calculation:\", calculation_time, \"seconds\")\n"
      ]
    },
    {
      "cell_type": "code",
      "execution_count": null,
      "metadata": {
        "colab": {
          "background_save": true,
          "base_uri": "https://localhost:8080/",
          "height": 90
        },
        "id": "olLYNmPg5xLM",
        "outputId": "34597cfd-5b34-4482-9318-61c272e6042b"
      },
      "outputs": [
        {
          "data": {
            "text/html": [
              "\n",
              "     <input type=\"file\" id=\"files-1fe983e3-3fc1-4c3a-be6f-d1d78faa1a9d\" name=\"files[]\" multiple disabled\n",
              "        style=\"border:none\" />\n",
              "     <output id=\"result-1fe983e3-3fc1-4c3a-be6f-d1d78faa1a9d\">\n",
              "      Upload widget is only available when the cell has been executed in the\n",
              "      current browser session. Please rerun this cell to enable.\n",
              "      </output>\n",
              "      <script>// Copyright 2017 Google LLC\n",
              "//\n",
              "// Licensed under the Apache License, Version 2.0 (the \"License\");\n",
              "// you may not use this file except in compliance with the License.\n",
              "// You may obtain a copy of the License at\n",
              "//\n",
              "//      http://www.apache.org/licenses/LICENSE-2.0\n",
              "//\n",
              "// Unless required by applicable law or agreed to in writing, software\n",
              "// distributed under the License is distributed on an \"AS IS\" BASIS,\n",
              "// WITHOUT WARRANTIES OR CONDITIONS OF ANY KIND, either express or implied.\n",
              "// See the License for the specific language governing permissions and\n",
              "// limitations under the License.\n",
              "\n",
              "/**\n",
              " * @fileoverview Helpers for google.colab Python module.\n",
              " */\n",
              "(function(scope) {\n",
              "function span(text, styleAttributes = {}) {\n",
              "  const element = document.createElement('span');\n",
              "  element.textContent = text;\n",
              "  for (const key of Object.keys(styleAttributes)) {\n",
              "    element.style[key] = styleAttributes[key];\n",
              "  }\n",
              "  return element;\n",
              "}\n",
              "\n",
              "// Max number of bytes which will be uploaded at a time.\n",
              "const MAX_PAYLOAD_SIZE = 100 * 1024;\n",
              "\n",
              "function _uploadFiles(inputId, outputId) {\n",
              "  const steps = uploadFilesStep(inputId, outputId);\n",
              "  const outputElement = document.getElementById(outputId);\n",
              "  // Cache steps on the outputElement to make it available for the next call\n",
              "  // to uploadFilesContinue from Python.\n",
              "  outputElement.steps = steps;\n",
              "\n",
              "  return _uploadFilesContinue(outputId);\n",
              "}\n",
              "\n",
              "// This is roughly an async generator (not supported in the browser yet),\n",
              "// where there are multiple asynchronous steps and the Python side is going\n",
              "// to poll for completion of each step.\n",
              "// This uses a Promise to block the python side on completion of each step,\n",
              "// then passes the result of the previous step as the input to the next step.\n",
              "function _uploadFilesContinue(outputId) {\n",
              "  const outputElement = document.getElementById(outputId);\n",
              "  const steps = outputElement.steps;\n",
              "\n",
              "  const next = steps.next(outputElement.lastPromiseValue);\n",
              "  return Promise.resolve(next.value.promise).then((value) => {\n",
              "    // Cache the last promise value to make it available to the next\n",
              "    // step of the generator.\n",
              "    outputElement.lastPromiseValue = value;\n",
              "    return next.value.response;\n",
              "  });\n",
              "}\n",
              "\n",
              "/**\n",
              " * Generator function which is called between each async step of the upload\n",
              " * process.\n",
              " * @param {string} inputId Element ID of the input file picker element.\n",
              " * @param {string} outputId Element ID of the output display.\n",
              " * @return {!Iterable<!Object>} Iterable of next steps.\n",
              " */\n",
              "function* uploadFilesStep(inputId, outputId) {\n",
              "  const inputElement = document.getElementById(inputId);\n",
              "  inputElement.disabled = false;\n",
              "\n",
              "  const outputElement = document.getElementById(outputId);\n",
              "  outputElement.innerHTML = '';\n",
              "\n",
              "  const pickedPromise = new Promise((resolve) => {\n",
              "    inputElement.addEventListener('change', (e) => {\n",
              "      resolve(e.target.files);\n",
              "    });\n",
              "  });\n",
              "\n",
              "  const cancel = document.createElement('button');\n",
              "  inputElement.parentElement.appendChild(cancel);\n",
              "  cancel.textContent = 'Cancel upload';\n",
              "  const cancelPromise = new Promise((resolve) => {\n",
              "    cancel.onclick = () => {\n",
              "      resolve(null);\n",
              "    };\n",
              "  });\n",
              "\n",
              "  // Wait for the user to pick the files.\n",
              "  const files = yield {\n",
              "    promise: Promise.race([pickedPromise, cancelPromise]),\n",
              "    response: {\n",
              "      action: 'starting',\n",
              "    }\n",
              "  };\n",
              "\n",
              "  cancel.remove();\n",
              "\n",
              "  // Disable the input element since further picks are not allowed.\n",
              "  inputElement.disabled = true;\n",
              "\n",
              "  if (!files) {\n",
              "    return {\n",
              "      response: {\n",
              "        action: 'complete',\n",
              "      }\n",
              "    };\n",
              "  }\n",
              "\n",
              "  for (const file of files) {\n",
              "    const li = document.createElement('li');\n",
              "    li.append(span(file.name, {fontWeight: 'bold'}));\n",
              "    li.append(span(\n",
              "        `(${file.type || 'n/a'}) - ${file.size} bytes, ` +\n",
              "        `last modified: ${\n",
              "            file.lastModifiedDate ? file.lastModifiedDate.toLocaleDateString() :\n",
              "                                    'n/a'} - `));\n",
              "    const percent = span('0% done');\n",
              "    li.appendChild(percent);\n",
              "\n",
              "    outputElement.appendChild(li);\n",
              "\n",
              "    const fileDataPromise = new Promise((resolve) => {\n",
              "      const reader = new FileReader();\n",
              "      reader.onload = (e) => {\n",
              "        resolve(e.target.result);\n",
              "      };\n",
              "      reader.readAsArrayBuffer(file);\n",
              "    });\n",
              "    // Wait for the data to be ready.\n",
              "    let fileData = yield {\n",
              "      promise: fileDataPromise,\n",
              "      response: {\n",
              "        action: 'continue',\n",
              "      }\n",
              "    };\n",
              "\n",
              "    // Use a chunked sending to avoid message size limits. See b/62115660.\n",
              "    let position = 0;\n",
              "    do {\n",
              "      const length = Math.min(fileData.byteLength - position, MAX_PAYLOAD_SIZE);\n",
              "      const chunk = new Uint8Array(fileData, position, length);\n",
              "      position += length;\n",
              "\n",
              "      const base64 = btoa(String.fromCharCode.apply(null, chunk));\n",
              "      yield {\n",
              "        response: {\n",
              "          action: 'append',\n",
              "          file: file.name,\n",
              "          data: base64,\n",
              "        },\n",
              "      };\n",
              "\n",
              "      let percentDone = fileData.byteLength === 0 ?\n",
              "          100 :\n",
              "          Math.round((position / fileData.byteLength) * 100);\n",
              "      percent.textContent = `${percentDone}% done`;\n",
              "\n",
              "    } while (position < fileData.byteLength);\n",
              "  }\n",
              "\n",
              "  // All done.\n",
              "  yield {\n",
              "    response: {\n",
              "      action: 'complete',\n",
              "    }\n",
              "  };\n",
              "}\n",
              "\n",
              "scope.google = scope.google || {};\n",
              "scope.google.colab = scope.google.colab || {};\n",
              "scope.google.colab._files = {\n",
              "  _uploadFiles,\n",
              "  _uploadFilesContinue,\n",
              "};\n",
              "})(self);\n",
              "</script> "
            ],
            "text/plain": [
              "<IPython.core.display.HTML object>"
            ]
          },
          "metadata": {},
          "output_type": "display_data"
        },
        {
          "name": "stdout",
          "output_type": "stream",
          "text": [
            "Saving social_circles.txt to social_circles (1).txt\n",
            "Number of communities after the first iteration: 2\n",
            "Number of communities after the first iteration: 2\n"
          ]
        },
        {
          "data": {
            "image/png": "[encoded data removed]",
            "text/plain": [
              "<Figure size 1000x800 with 1 Axes>"
            ]
          },
          "metadata": {},
          "output_type": "display_data"
        }
      ],
      "source": [
        "import networkx as nx\n",
        "import matplotlib.pyplot as plt\n",
        "\n",
        "import networkx as nx\n",
        "from networkx.algorithms.community import girvan_newman\n",
        "from google.colab import files\n",
        "\n",
        "# Step 1: Upload the \"social_circles.txt\" file\n",
        "uploaded = files.upload()\n",
        "\n",
        "# Step 2: Load the social circles.txt network dataset\n",
        "file_path = list(uploaded.keys())[0]\n",
        "G = nx.read_adjlist(file_path)\n",
        "\n",
        "# Step 3: Find the largest connected component of the graph\n",
        "largest_cc = max(nx.connected_components(G), key=len)\n",
        "largest_cc_graph = G.subgraph(largest_cc)\n",
        "\n",
        "# Step 4: Apply Girvan-Newman method for the first iteration level on the subgraph\n",
        "communities_iter1 = girvan_newman(largest_cc_graph)\n",
        "\n",
        "# Step 5: Report the number of resulting communities after the first iteration\n",
        "num_communities_iter1 = len(tuple(next(communities_iter1)))\n",
        "print(\"Number of communities after the first iteration:\", num_communities_iter1)\n",
        "\n",
        "# Assuming you have already obtained the largest connected component subgraph\n",
        "# largest_cc_graph variable should contain the largest connected component subgraph\n",
        "\n",
        "# (b) Apply Girvan-Newman method for the first iteration level on the subgraph\n",
        "communities_iter1 = nx.algorithms.community.girvan_newman(largest_cc_graph)\n",
        "\n",
        "# Report the number of resulting communities after the first iteration\n",
        "num_communities_iter1 = len(tuple(next(communities_iter1)))\n",
        "print(\"Number of communities after the first iteration:\", num_communities_iter1)\n",
        "\n",
        "# (c) Compute the communities after the third iteration\n",
        "communities_iter3 = None\n",
        "for _ in range(3):\n",
        "    communities_iter3 = next(communities_iter1)\n",
        "\n",
        "# Create a new graph\n",
        "G = nx.Graph()\n",
        "\n",
        "# Add edges from the communities after the third iteration\n",
        "for community in communities_iter3:\n",
        "    G.add_edges_from(nx.complete_graph(community).edges())\n",
        "\n",
        "# Create a community color mapping\n",
        "community_colors = {}\n",
        "for i, community in enumerate(communities_iter3):\n",
        "    for node in community:\n",
        "        community_colors[node] = i\n",
        "\n",
        "# Generate positions for nodes\n",
        "pos = nx.spring_layout(G)\n",
        "\n",
        "# Draw the graph with nodes colored according to their community\n",
        "plt.figure(figsize=(10, 8))\n",
        "nx.draw(G, pos, node_color=[community_colors[node] for node in G.nodes()], cmap=plt.cm.tab20, with_labels=True)\n",
        "plt.title(\"Graph with Communities (After Third Iteration)\")\n",
        "plt.show()\n"
      ]
    },
    {
      "cell_type": "code",
      "execution_count": null,
      "metadata": {
        "colab": {
          "base_uri": "https://localhost:8080/"
        },
        "id": "JVyu26wc0gpB",
        "outputId": "35140d22-4d52-43c2-bf26-88cbb354d456"
      },
      "outputs": [
        {
          "name": "stdout",
          "output_type": "stream",
          "text": [
            "Number of nodes in the largest connected component: 775\n",
            "Number of edges in the largest connected component: 14006\n"
          ]
        }
      ],
      "source": [
        "import networkx as nx\n",
        "\n",
        "# Load the network dataset from the file\n",
        "file_path = \"social_circles.txt\"\n",
        "G = nx.read_edgelist(file_path)\n",
        "\n",
        "# Find the largest connected component\n",
        "largest_component = max(nx.connected_components(G), key=len)\n",
        "largest_component_graph = G.subgraph(largest_component)\n",
        "\n",
        "# Print the number of nodes and edges in the largest connected component\n",
        "print(\"Number of nodes in the largest connected component:\", largest_component_graph.number_of_nodes())\n",
        "print(\"Number of edges in the largest connected component:\", largest_component_graph.number_of_edges())\n"
      ]
    },
    {
      "cell_type": "code",
      "execution_count": null,
      "metadata": {
        "colab": {
          "base_uri": "https://localhost:8080/"
        },
        "id": "flmKQj6x1-2k",
        "outputId": "bce66970-0ad8-4960-985e-5f6b05edfbe1"
      },
      "outputs": [
        {
          "name": "stdout",
          "output_type": "stream",
          "text": [
            "Number of communities in the first iteration: 2\n"
          ]
        }
      ],
      "source": [
        "import networkx as nx\n",
        "\n",
        "# Load the network dataset from the file\n",
        "file_path = \"social_circles.txt\"\n",
        "G = nx.read_edgelist(file_path)\n",
        "\n",
        "# Find the largest connected component\n",
        "largest_component = max(nx.connected_components(G), key=len)\n",
        "largest_component_graph = G.subgraph(largest_component)\n",
        "\n",
        "# Apply Girvan-Newman method for the first iteration level\n",
        "communities_generator = nx.algorithms.community.girvan_newman(largest_component_graph)\n",
        "first_iteration_communities = next(communities_generator)\n",
        "\n",
        "# Report the number of resulting communities\n",
        "num_communities = len(first_iteration_communities)\n",
        "print(\"Number of communities in the first iteration:\", num_communities)\n"
      ]
    },
    {
      "cell_type": "code",
      "execution_count": null,
      "metadata": {
        "colab": {
          "background_save": true
        },
        "id": "o5Kw-NVm2miL",
        "outputId": "95ff027f-6da4-4df6-aea1-c1caab5c591a"
      },
      "outputs": [
        {
          "name": "stdout",
          "output_type": "stream",
          "text": [
            "Size of each community after the second iteration:\n",
            "Community 1: 507 nodes\n",
            "Community 2: 226 nodes\n",
            "Community 3: 19 nodes\n",
            "Community 4: 23 nodes\n"
          ]
        }
      ],
      "source": [
        "import networkx as nx\n",
        "\n",
        "# Load the network dataset from the file\n",
        "file_path = \"social_circles.txt\"\n",
        "G = nx.read_edgelist(file_path)\n",
        "\n",
        "# Find the largest connected component\n",
        "largest_component = max(nx.connected_components(G), key=len)\n",
        "largest_component_graph = G.subgraph(largest_component)\n",
        "\n",
        "# Apply Girvan-Newman method for the second iteration level\n",
        "communities_generator = nx.algorithms.community.girvan_newman(largest_component_graph)\n",
        "for i in range(2):  # Perform two iterations\n",
        "    next(communities_generator)\n",
        "\n",
        "second_iteration_communities = next(communities_generator)\n",
        "\n",
        "# Compute the size of each community after the second iteration\n",
        "community_sizes = [len(community) for community in second_iteration_communities]\n",
        "\n",
        "# Print the size of each community\n",
        "print(\"Size of each community after the second iteration:\")\n",
        "for idx, size in enumerate(community_sizes, start=1):\n",
        "    print(f\"Community {idx}: {size} nodes\")\n"
      ]
    },
    {
      "cell_type": "code",
      "source": [
        "import networkx as nx\n",
        "import matplotlib.pyplot as plt\n",
        "\n",
        "# Load the network dataset from the file\n",
        "file_path = \"social_circles.txt\"\n",
        "G = nx.read_edgelist(file_path)\n",
        "\n",
        "# Find the largest connected component\n",
        "largest_component = max(nx.connected_components(G), key=len)\n",
        "largest_component_graph = G.subgraph(largest_component)\n",
        "\n",
        "# Apply Girvan-Newman method for the third iteration level\n",
        "communities_generator = nx.algorithms.community.girvan_newman(largest_component_graph)\n",
        "for i in range(3):  # Perform three iterations\n",
        "    next(communities_generator)\n",
        "\n",
        "third_iteration_communities = next(communities_generator)\n",
        "\n",
        "# Create a color map for the communities\n",
        "color_map = {}\n",
        "for idx, community in enumerate(third_iteration_communities):\n",
        "    for node in community:\n",
        "        color_map[node] = idx\n",
        "\n",
        "# Draw the graph with nodes colored according to their community\n",
        "pos = nx.spring_layout(largest_component_graph)  # Layout algorithm\n",
        "nx.draw(largest_component_graph, pos, node_color=[color_map[node] for node in largest_component_graph.nodes()], with_labels=True, cmap=plt.cm.Set1)\n",
        "plt.show()\n"
      ],
      "metadata": {
        "id": "fdlao_N1oRQC"
      },
      "execution_count": null,
      "outputs": []
    }
  ],
  "metadata": {
    "colab": {
      "provenance": []
    },
    "kernelspec": {
      "display_name": "Python 3",
      "name": "python3"
    },
    "language_info": {
      "name": "python"
    }
  },
  "nbformat": 4,
  "nbformat_minor": 0
}